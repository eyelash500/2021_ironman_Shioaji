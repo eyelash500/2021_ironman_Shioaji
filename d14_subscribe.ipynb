{
 "cells": [
  {
   "cell_type": "code",
   "execution_count": null,
   "source": [
    "import shioaji as sj"
   ],
   "outputs": [],
   "metadata": {}
  },
  {
   "cell_type": "code",
   "execution_count": null,
   "source": [
    "# 登入shioaji\n",
    "api = sj.Shioaji()\n",
    "api.login(\n",
    "    person_id=\"id是我\",\n",
    "    passwd=\"密碼是我\",\n",
    ")"
   ],
   "outputs": [],
   "metadata": {}
  },
  {
   "cell_type": "code",
   "execution_count": 3,
   "source": [
    "# 取得subscribe格式說明\n",
    "api.quote.subscribe?"
   ],
   "outputs": [
    {
     "output_type": "stream",
     "name": "stdout",
     "text": [
      "\u001b[0;31mSignature:\u001b[0m\n",
      "\u001b[0mapi\u001b[0m\u001b[0;34m.\u001b[0m\u001b[0mquote\u001b[0m\u001b[0;34m.\u001b[0m\u001b[0msubscribe\u001b[0m\u001b[0;34m(\u001b[0m\u001b[0;34m\u001b[0m\n",
      "\u001b[0;34m\u001b[0m    \u001b[0mcontract\u001b[0m\u001b[0;34m:\u001b[0m \u001b[0mshioaji\u001b[0m\u001b[0;34m.\u001b[0m\u001b[0mcontracts\u001b[0m\u001b[0;34m.\u001b[0m\u001b[0mContract\u001b[0m\u001b[0;34m,\u001b[0m\u001b[0;34m\u001b[0m\n",
      "\u001b[0;34m\u001b[0m    \u001b[0mquote_type\u001b[0m\u001b[0;34m:\u001b[0m \u001b[0mshioaji\u001b[0m\u001b[0;34m.\u001b[0m\u001b[0mconstant\u001b[0m\u001b[0;34m.\u001b[0m\u001b[0mQuoteType\u001b[0m \u001b[0;34m=\u001b[0m \u001b[0;34m<\u001b[0m\u001b[0mQuoteType\u001b[0m\u001b[0;34m.\u001b[0m\u001b[0mTick\u001b[0m\u001b[0;34m:\u001b[0m \u001b[0;34m'tick'\u001b[0m\u001b[0;34m>\u001b[0m\u001b[0;34m,\u001b[0m\u001b[0;34m\u001b[0m\n",
      "\u001b[0;34m\u001b[0m    \u001b[0mintraday_odd\u001b[0m\u001b[0;34m:\u001b[0m \u001b[0mbool\u001b[0m \u001b[0;34m=\u001b[0m \u001b[0;32mFalse\u001b[0m\u001b[0;34m,\u001b[0m\u001b[0;34m\u001b[0m\n",
      "\u001b[0;34m\u001b[0m\u001b[0;34m)\u001b[0m\u001b[0;34m\u001b[0m\u001b[0;34m\u001b[0m\u001b[0m\n",
      "\u001b[0;31mDocstring:\u001b[0m <no docstring>\n",
      "\u001b[0;31mType:\u001b[0m      method\n"
     ]
    }
   ],
   "metadata": {}
  },
  {
   "cell_type": "markdown",
   "source": [
    "# 文件上的格式\n",
    "\n",
    "```\n",
    "api.quote.subscribe?\n",
    "\n",
    "    Signature:\n",
    "        api.quote.subscribe(\n",
    "            contract:shioaji.contracts.Contract,\n",
    "            quote_type:shioaji.constant.QuoteType=<QuoteType.Tick: 'tick'>,\n",
    "            intraday_odd:bool=False,\n",
    "            version: shioaji.constant.QuoteVersion=<QuoteVersion.v0: 'v0'>,\n",
    "        )\n",
    "    Docstring: <no docstring>\n",
    "    Type:      method\n",
    "```\n",
    "\n",
    "**已經沒有version了**"
   ],
   "metadata": {}
  },
  {
   "cell_type": "code",
   "execution_count": 6,
   "source": [
    "# 取得subscribe 資料：Stock 2330－台積電\n",
    "api.quote.subscribe(\n",
    "    api.Contracts.Stocks[\"2330\"], \n",
    "    quote_type = sj.constant.QuoteType.Tick, # or 'tick'\n",
    ")"
   ],
   "outputs": [
    {
     "output_type": "stream",
     "name": "stdout",
     "text": [
      "Response Code: 200 | Event Code: 16 | Info: MKT/*/TSE/2330 | Event: Subscribe or Unsubscribe ok\n"
     ]
    }
   ],
   "metadata": {}
  },
  {
   "cell_type": "markdown",
   "source": [
    "因為非交易時間，所以沒有資料，不然會是：\n",
    "\n",
    "```\n",
    "Response Code: 200 | Event Code: 16 | Info: TIC/v1/STK/*/TSE/2330 | Event: Subscribe or Unsubscribe ok\n",
    "\n",
    "Exchange.TSE \n",
    "Tick(\n",
    "    code = '2330', \n",
    "    datetime = datetime.datetime(2021, 7, 2, 13, 16, 35, 92970), \n",
    "    open = Decimal('590'), \n",
    "    avg_price = Decimal('589.05'), \n",
    "    close = Decimal('590'), \n",
    "    high = Decimal('593'), \n",
    "    low = Decimal('587'), \n",
    "    amount = Decimal('590000'), \n",
    "    total_amount = Decimal('8540101000'), \n",
    "    volume = 1, \n",
    "    total_volume = 14498, \n",
    "    tick_type = 1, \n",
    "    chg_type = 4, \n",
    "    price_chg = Decimal('-3'), \n",
    "    pct_chg = Decimal('-0.505902'), \n",
    "    bid_side_total_vol= 6638, \n",
    "    ask_side_total_vol = 7860, \n",
    "    bid_side_total_cnt = 2694, \n",
    "    ask_side_total_cnt = 2705, \n",
    "    closing_oddlot_shares = 0, \n",
    "    fixed_trade_vol = 0, \n",
    "    suspend = 0, \n",
    "    simtrade = 0, \n",
    "    intraday_odd = 0\n",
    ")\n",
    "```"
   ],
   "metadata": {}
  },
  {
   "cell_type": "code",
   "execution_count": 14,
   "source": [
    "# 取得subscribe 資料：2021年10月的台指契約\n",
    "api.quote.subscribe(\n",
    "    api.Contracts.Futures.TXF['TXF202110'],\n",
    "    quote_type = sj.constant.QuoteType.Tick, # or 'tick'\n",
    ")"
   ],
   "outputs": [
    {
     "output_type": "stream",
     "name": "stdout",
     "text": [
      "L/TFE/TXFJ1 {'Amount': [50709.0], 'AmountSum': [876467708.0], 'AvgPrice': [17018.790447], 'Close': [16903.0], 'Code': 'TXFJ1', 'Date': '', 'DiffPrice': [-267.0], 'DiffRate': [-1.555038], 'DiffType': [4], 'High': [17139.0], 'Low': [16896.0], 'Open': 17130.0, 'TargetKindPrice': 17181.44, 'TickType': [2], 'Time': '01:05:12.901000', 'TradeAskVolSum': 29864, 'TradeBidVolSum': 33924, 'VolSum': [51500], 'Volume': [3]}\n",
      "Q/TFE/TXFJ1 {'AskPrice': [16903.0, 16904.0, 16905.0, 16906.0, 16907.0], 'AskVolSum': 41, 'AskVolume': [3, 8, 8, 14, 8], 'BidPrice': [16902.0, 16901.0, 16900.0, 16899.0, 16898.0], 'BidVolSum': 54, 'BidVolume': [1, 15, 17, 18, 3], 'Code': 'TXFJ1', 'Date': '', 'DiffAskVol': [-1, 6, 0, 1, 0], 'DiffAskVolSum': 0, 'DiffBidVol': [-5, -6, 0, 5, -6], 'DiffBidVolSum': 0, 'FirstDerivedAskPrice': 0.0, 'FirstDerivedAskVolume': 0, 'FirstDerivedBidPrice': 16902.0, 'FirstDerivedBidVolume': 1, 'TargetKindPrice': 17181.44, 'Time': '01:05:12.939000'}\n",
      "L/TFE/TXFJ1 {'Amount': [101418.0], 'AmountSum': [876569126.0], 'AvgPrice': [17018.776958], 'Close': [16903.0], 'Code': 'TXFJ1', 'Date': '', 'DiffPrice': [-267.0], 'DiffRate': [-1.555038], 'DiffType': [4], 'High': [17139.0], 'Low': [16896.0], 'Open': 17130.0, 'TargetKindPrice': 17181.44, 'TickType': [2], 'Time': '01:05:12.902000', 'TradeAskVolSum': 29868, 'TradeBidVolSum': 33925, 'VolSum': [51506], 'Volume': [6]}\n",
      "Q/TFE/TXFJ1 {'AskPrice': [16904.0, 16905.0, 16906.0, 16907.0, 16908.0], 'AskVolSum': 50, 'AskVolume': [9, 13, 9, 8, 11], 'BidPrice': [16902.0, 16901.0, 16900.0, 16899.0, 16898.0], 'BidVolSum': 59, 'BidVolume': [5, 14, 17, 17, 6], 'Code': 'TXFJ1', 'Date': '', 'DiffAskVol': [1, 5, -5, 0, 1], 'DiffAskVolSum': 0, 'DiffBidVol': [4, -1, 0, -1, 3], 'DiffBidVolSum': 0, 'FirstDerivedAskPrice': 0.0, 'FirstDerivedAskVolume': 0, 'FirstDerivedBidPrice': 16902.0, 'FirstDerivedBidVolume': 1, 'TargetKindPrice': 17181.44, 'Time': '01:05:13.064000'}\n"
     ]
    }
   ],
   "metadata": {}
  },
  {
   "cell_type": "code",
   "execution_count": 21,
   "source": [
    "# 取得subscribe 資料：2021年10月的台指契約\n",
    "api.quote.subscribe(\n",
    "    api.Contracts.Futures.TXF['TXF202110'],\n",
    "    quote_type = sj.constant.QuoteType.BidAsk,\n",
    ")"
   ],
   "outputs": [
    {
     "output_type": "stream",
     "name": "stdout",
     "text": [
      "L/TFE/TXFJ1 {'Amount': [16919.0], 'AmountSum': [881827964.0], 'AvgPrice': [17018.120771], 'Close': [16919.0], 'Code': 'TXFJ1', 'Date': '', 'DiffPrice': [-251.0], 'DiffRate': [-1.461852], 'DiffType': [4], 'High': [17139.0], 'Low': [16896.0], 'Open': 17130.0, 'TargetKindPrice': 17181.44, 'TickType': [1], 'Time': '01:07:43.527000', 'TradeAskVolSum': 30091, 'TradeBidVolSum': 34116, 'VolSum': [51817], 'Volume': [1]}\n",
      "Q/TFE/TXFJ1 {'AskPrice': [16919.0, 16920.0, 16921.0, 16922.0, 16923.0], 'AskVolSum': 46, 'AskVolume': [3, 13, 15, 8, 7], 'BidPrice': [16917.0, 16916.0, 16915.0, 16914.0, 16913.0], 'BidVolSum': 59, 'BidVolume': [6, 14, 14, 13, 12], 'Code': 'TXFJ1', 'Date': '', 'DiffAskVol': [-1, -5, 5, 0, 0], 'DiffAskVolSum': 0, 'DiffBidVol': [1, 0, 0, 0, 0], 'DiffBidVolSum': 0, 'FirstDerivedAskPrice': 16920.0, 'FirstDerivedAskVolume': 7, 'FirstDerivedBidPrice': 0.0, 'FirstDerivedBidVolume': 0, 'TargetKindPrice': 17181.44, 'Time': '01:07:43.564000'}\n",
      "Q/TFE/TXFJ1 {'AskPrice': [16919.0, 16920.0, 16921.0, 16922.0, 16923.0], 'AskVolSum': 47, 'AskVolume': [4, 18, 10, 8, 7], 'BidPrice': [16917.0, 16916.0, 16915.0, 16914.0, 16913.0], 'BidVolSum': 58, 'BidVolume': [5, 14, 14, 13, 12], 'Code': 'TXFJ1', 'Date': '', 'DiffAskVol': [1, 5, -5, 0, 0], 'DiffAskVolSum': 0, 'DiffBidVol': [-1, 0, 0, 0, 0], 'DiffBidVolSum': 0, 'FirstDerivedAskPrice': 16920.0, 'FirstDerivedAskVolume': 7, 'FirstDerivedBidPrice': 0.0, 'FirstDerivedBidVolume': 0, 'TargetKindPrice': 17181.44, 'Time': '01:07:43.689000'}\n",
      "Q/TFE/TXFJ1 {'AskPrice': [16919.0, 16920.0, 16921.0, 16922.0, 16923.0], 'AskVolSum': 44, 'AskVolume': [1, 13, 15, 8, 7], 'BidPrice': [16918.0, 16917.0, 16916.0, 16915.0, 16914.0], 'BidVolSum': 53, 'BidVolume': [6, 6, 19, 9, 13], 'Code': 'TXFJ1', 'Date': '', 'DiffAskVol': [-3, -5, 5, 0, 0], 'DiffAskVolSum': 0, 'DiffBidVol': [1, 1, 5, -5, 0], 'DiffBidVolSum': 0, 'FirstDerivedAskPrice': 16920.0, 'FirstDerivedAskVolume': 7, 'FirstDerivedBidPrice': 0.0, 'FirstDerivedBidVolume': 0, 'TargetKindPrice': 17181.44, 'Time': '01:07:43.814000'}\n",
      "Q/TFE/TXFJ1 {'AskPrice': [16919.0, 16920.0, 16921.0, 16922.0, 16923.0], 'AskVolSum': 44, 'AskVolume': [1, 13, 15, 8, 7], 'BidPrice': [16918.0, 16917.0, 16916.0, 16915.0, 16914.0], 'BidVolSum': 54, 'BidVolume': [6, 6, 19, 9, 14], 'Code': 'TXFJ1', 'Date': '', 'DiffAskVol': [0, 0, 0, 0, 0], 'DiffAskVolSum': 0, 'DiffBidVol': [0, 0, 0, 0, 1], 'DiffBidVolSum': 0, 'FirstDerivedAskPrice': 16920.0, 'FirstDerivedAskVolume': 7, 'FirstDerivedBidPrice': 0.0, 'FirstDerivedBidVolume': 0, 'TargetKindPrice': 17181.44, 'Time': '01:07:43.939000'}\n",
      "Q/TFE/TXFJ1 {'AskPrice': [16919.0, 16920.0, 16921.0, 16922.0, 16923.0], 'AskVolSum': 46, 'AskVolume': [3, 13, 15, 8, 7], 'BidPrice': [16918.0, 16917.0, 16916.0, 16915.0, 16914.0], 'BidVolSum': 54, 'BidVolume': [6, 6, 19, 9, 14], 'Code': 'TXFJ1', 'Date': '', 'DiffAskVol': [2, 0, 0, 0, 0], 'DiffAskVolSum': 0, 'DiffBidVol': [0, 0, 0, 0, 0], 'DiffBidVolSum': 0, 'FirstDerivedAskPrice': 16920.0, 'FirstDerivedAskVolume': 7, 'FirstDerivedBidPrice': 0.0, 'FirstDerivedBidVolume': 0, 'TargetKindPrice': 17181.44, 'Time': '01:07:44.064000'}\n",
      "Q/TFE/TXFJ1 {'AskPrice': [16919.0, 16920.0, 16921.0, 16922.0, 16923.0], 'AskVolSum': 47, 'AskVolume': [4, 18, 10, 8, 7], 'BidPrice': [16918.0, 16917.0, 16916.0, 16915.0, 16914.0], 'BidVolSum': 54, 'BidVolume': [6, 6, 19, 9, 14], 'Code': 'TXFJ1', 'Date': '', 'DiffAskVol': [1, 5, -5, 0, 0], 'DiffAskVolSum': 0, 'DiffBidVol': [0, 0, 0, 0, 0], 'DiffBidVolSum': 0, 'FirstDerivedAskPrice': 16920.0, 'FirstDerivedAskVolume': 7, 'FirstDerivedBidPrice': 0.0, 'FirstDerivedBidVolume': 0, 'TargetKindPrice': 17181.44, 'Time': '01:07:44.439000'}\n",
      "Q/TFE/TXFJ1 {'AskPrice': [16919.0, 16920.0, 16921.0, 16922.0, 16923.0], 'AskVolSum': 46, 'AskVolume': [3, 13, 15, 8, 7], 'BidPrice': [16918.0, 16917.0, 16916.0, 16915.0, 16914.0], 'BidVolSum': 54, 'BidVolume': [6, 6, 19, 9, 14], 'Code': 'TXFJ1', 'Date': '', 'DiffAskVol': [-1, -5, 5, 0, 0], 'DiffAskVolSum': 0, 'DiffBidVol': [0, 0, 0, 0, 0], 'DiffBidVolSum': 0, 'FirstDerivedAskPrice': 16920.0, 'FirstDerivedAskVolume': 7, 'FirstDerivedBidPrice': 0.0, 'FirstDerivedBidVolume': 0, 'TargetKindPrice': 17181.44, 'Time': '01:07:44.564000'}\n",
      "Q/TFE/TXFJ1 {'AskPrice': [16919.0, 16920.0, 16921.0, 16922.0, 16923.0], 'AskVolSum': 46, 'AskVolume': [3, 13, 15, 8, 7], 'BidPrice': [16918.0, 16917.0, 16916.0, 16915.0, 16914.0], 'BidVolSum': 54, 'BidVolume': [6, 6, 19, 9, 14], 'Code': 'TXFJ1', 'Date': '', 'DiffAskVol': [0, 0, 0, 0, 0], 'DiffAskVolSum': 0, 'DiffBidVol': [0, 0, 0, 0, 0], 'DiffBidVolSum': 0, 'FirstDerivedAskPrice': 16920.0, 'FirstDerivedAskVolume': 7, 'FirstDerivedBidPrice': 0.0, 'FirstDerivedBidVolume': 0, 'TargetKindPrice': 17181.44, 'Time': '01:07:44.689000'}\n",
      "Q/TFE/TXFJ1 {'AskPrice': [16919.0, 16920.0, 16921.0, 16922.0, 16923.0], 'AskVolSum': 45, 'AskVolume': [2, 13, 15, 8, 7], 'BidPrice': [16918.0, 16917.0, 16916.0, 16915.0, 16914.0], 'BidVolSum': 54, 'BidVolume': [6, 6, 19, 9, 14], 'Code': 'TXFJ1', 'Date': '', 'DiffAskVol': [-1, 0, 0, 0, 0], 'DiffAskVolSum': 0, 'DiffBidVol': [0, 0, 0, 0, 0], 'DiffBidVolSum': 0, 'FirstDerivedAskPrice': 16920.0, 'FirstDerivedAskVolume': 7, 'FirstDerivedBidPrice': 0.0, 'FirstDerivedBidVolume': 0, 'TargetKindPrice': 17181.44, 'Time': '01:07:44.814000'}\n",
      "L/TFE/TXFJ1 {'Amount': [16920.0], 'AmountSum': [881844884.0], 'AvgPrice': [17018.118878], 'Close': [16920.0], 'Code': 'TXFJ1', 'Date': '', 'DiffPrice': [-250.0], 'DiffRate': [-1.456028], 'DiffType': [4], 'High': [17139.0], 'Low': [16896.0], 'Open': 17130.0, 'TargetKindPrice': 17181.44, 'TickType': [1], 'Time': '01:07:44.915000', 'TradeAskVolSum': 30092, 'TradeBidVolSum': 34117, 'VolSum': [51818], 'Volume': [1]}\n",
      "Q/TFE/TXFJ1 {'AskPrice': [16920.0, 16921.0, 16922.0, 16923.0, 16924.0], 'AskVolSum': 56, 'AskVolume': [12, 15, 8, 6, 15], 'BidPrice': [16918.0, 16917.0, 16916.0, 16915.0, 16914.0], 'BidVolSum': 56, 'BidVolume': [7, 6, 20, 9, 14], 'Code': 'TXFJ1', 'Date': '', 'DiffAskVol': [-1, 0, 0, -1, 1], 'DiffAskVolSum': 0, 'DiffBidVol': [1, 0, 1, 0, 0], 'DiffBidVolSum': 0, 'FirstDerivedAskPrice': 16920.0, 'FirstDerivedAskVolume': 7, 'FirstDerivedBidPrice': 0.0, 'FirstDerivedBidVolume': 0, 'TargetKindPrice': 17181.44, 'Time': '01:07:44.939000'}\n",
      "Q/TFE/TXFJ1 {'AskPrice': [16919.0, 16920.0, 16921.0, 16922.0, 16923.0], 'AskVolSum': 42, 'AskVolume': [1, 12, 15, 8, 6], 'BidPrice': [16918.0, 16917.0, 16916.0, 16915.0, 16914.0], 'BidVolSum': 60, 'BidVolume': [7, 6, 24, 9, 14], 'Code': 'TXFJ1', 'Date': '', 'DiffAskVol': [-1, 0, 0, 0, 0], 'DiffAskVolSum': 0, 'DiffBidVol': [0, 0, 4, 0, 0], 'DiffBidVolSum': 0, 'FirstDerivedAskPrice': 16920.0, 'FirstDerivedAskVolume': 7, 'FirstDerivedBidPrice': 0.0, 'FirstDerivedBidVolume': 0, 'TargetKindPrice': 17181.44, 'Time': '01:07:45.064000'}\n",
      "Q/TFE/TXFJ1 {'AskPrice': [16920.0, 16921.0, 16922.0, 16923.0, 16924.0], 'AskVolSum': 56, 'AskVolume': [12, 15, 8, 6, 15], 'BidPrice': [16918.0, 16917.0, 16916.0, 16915.0, 16914.0], 'BidVolSum': 60, 'BidVolume': [7, 6, 24, 9, 14], 'Code': 'TXFJ1', 'Date': '', 'DiffAskVol': [0, 0, 0, 0, 0], 'DiffAskVolSum': 0, 'DiffBidVol': [0, 0, 0, 0, 0], 'DiffBidVolSum': 0, 'FirstDerivedAskPrice': 16920.0, 'FirstDerivedAskVolume': 7, 'FirstDerivedBidPrice': 0.0, 'FirstDerivedBidVolume': 0, 'TargetKindPrice': 17181.44, 'Time': '01:07:45.189000'}\n",
      "Q/TFE/TXFJ1 {'AskPrice': [16920.0, 16921.0, 16922.0, 16923.0, 16924.0], 'AskVolSum': 56, 'AskVolume': [12, 15, 8, 6, 15], 'BidPrice': [16918.0, 16917.0, 16916.0, 16915.0, 16914.0], 'BidVolSum': 59, 'BidVolume': [7, 5, 24, 9, 14], 'Code': 'TXFJ1', 'Date': '', 'DiffAskVol': [0, 0, 0, 0, 0], 'DiffAskVolSum': 0, 'DiffBidVol': [0, -1, 0, 0, 0], 'DiffBidVolSum': 0, 'FirstDerivedAskPrice': 16920.0, 'FirstDerivedAskVolume': 7, 'FirstDerivedBidPrice': 0.0, 'FirstDerivedBidVolume': 0, 'TargetKindPrice': 17181.44, 'Time': '01:07:45.314000'}\n",
      "Q/TFE/TXFJ1 {'AskPrice': [16920.0, 16921.0, 16922.0, 16923.0, 16924.0], 'AskVolSum': 55, 'AskVolume': [11, 15, 8, 6, 15], 'BidPrice': [16918.0, 16917.0, 16916.0, 16915.0, 16914.0], 'BidVolSum': 59, 'BidVolume': [7, 5, 24, 9, 14], 'Code': 'TXFJ1', 'Date': '', 'DiffAskVol': [-1, 0, 0, 0, 0], 'DiffAskVolSum': 0, 'DiffBidVol': [0, 0, 0, 0, 0], 'DiffBidVolSum': 0, 'FirstDerivedAskPrice': 16920.0, 'FirstDerivedAskVolume': 7, 'FirstDerivedBidPrice': 0.0, 'FirstDerivedBidVolume': 0, 'TargetKindPrice': 17181.44, 'Time': '01:07:45.689000'}\n",
      "Q/TFE/TXFJ1 {'AskPrice': [16920.0, 16921.0, 16922.0, 16923.0, 16924.0], 'AskVolSum': 54, 'AskVolume': [9, 15, 9, 6, 15], 'BidPrice': [16919.0, 16918.0, 16917.0, 16916.0, 16915.0], 'BidVolSum': 55, 'BidVolume': [8, 9, 10, 19, 9], 'Code': 'TXFJ1', 'Date': '', 'DiffAskVol': [-2, 0, 1, 0, 0], 'DiffAskVolSum': 0, 'DiffBidVol': [6, 2, 5, -5, 0], 'DiffBidVolSum': 0, 'FirstDerivedAskPrice': 16920.0, 'FirstDerivedAskVolume': 7, 'FirstDerivedBidPrice': 0.0, 'FirstDerivedBidVolume': 0, 'TargetKindPrice': 17181.44, 'Time': '01:07:45.939000'}\n",
      "Q/TFE/TXFJ1 {'AskPrice': [16920.0, 16921.0, 16922.0, 16923.0, 16924.0], 'AskVolSum': 54, 'AskVolume': [9, 15, 9, 6, 15], 'BidPrice': [16919.0, 16918.0, 16917.0, 16916.0, 16915.0], 'BidVolSum': 56, 'BidVolume': [8, 9, 10, 19, 10], 'Code': 'TXFJ1', 'Date': '', 'DiffAskVol': [0, 0, 0, 0, 0], 'DiffAskVolSum': 0, 'DiffBidVol': [0, 0, 0, 0, 1], 'DiffBidVolSum': 0, 'FirstDerivedAskPrice': 16920.0, 'FirstDerivedAskVolume': 7, 'FirstDerivedBidPrice': 0.0, 'FirstDerivedBidVolume': 0, 'TargetKindPrice': 17181.44, 'Time': '01:07:46.064000'}\n",
      "Q/TFE/TXFJ1 {'AskPrice': [16920.0, 16921.0, 16922.0, 16923.0, 16924.0], 'AskVolSum': 54, 'AskVolume': [9, 15, 9, 6, 15], 'BidPrice': [16919.0, 16918.0, 16917.0, 16916.0, 16915.0], 'BidVolSum': 57, 'BidVolume': [9, 9, 10, 19, 10], 'Code': 'TXFJ1', 'Date': '', 'DiffAskVol': [0, 0, 0, 0, 0], 'DiffAskVolSum': 0, 'DiffBidVol': [1, 0, 0, 0, 0], 'DiffBidVolSum': 0, 'FirstDerivedAskPrice': 16920.0, 'FirstDerivedAskVolume': 7, 'FirstDerivedBidPrice': 0.0, 'FirstDerivedBidVolume': 0, 'TargetKindPrice': 17181.44, 'Time': '01:07:46.439000'}\n",
      "Q/TFE/TXFJ1 {'AskPrice': [16920.0, 16921.0, 16922.0, 16923.0, 16924.0], 'AskVolSum': 54, 'AskVolume': [9, 15, 9, 6, 15], 'BidPrice': [16919.0, 16918.0, 16917.0, 16916.0, 16915.0], 'BidVolSum': 57, 'BidVolume': [9, 9, 10, 19, 10], 'Code': 'TXFJ1', 'Date': '', 'DiffAskVol': [0, 0, 0, 0, 0], 'DiffAskVolSum': 0, 'DiffBidVol': [0, 0, 0, 0, 0], 'DiffBidVolSum': 0, 'FirstDerivedAskPrice': 16920.0, 'FirstDerivedAskVolume': 7, 'FirstDerivedBidPrice': 0.0, 'FirstDerivedBidVolume': 0, 'TargetKindPrice': 17181.44, 'Time': '01:07:46.564000'}\n",
      "Q/TFE/TXFJ1 {'AskPrice': [16920.0, 16921.0, 16922.0, 16923.0, 16924.0], 'AskVolSum': 54, 'AskVolume': [9, 15, 9, 6, 15], 'BidPrice': [16919.0, 16918.0, 16917.0, 16916.0, 16915.0], 'BidVolSum': 57, 'BidVolume': [9, 9, 10, 19, 10], 'Code': 'TXFJ1', 'Date': '', 'DiffAskVol': [0, 0, 0, 0, 0], 'DiffAskVolSum': 0, 'DiffBidVol': [0, 0, 0, 0, 0], 'DiffBidVolSum': 0, 'FirstDerivedAskPrice': 16920.0, 'FirstDerivedAskVolume': 7, 'FirstDerivedBidPrice': 0.0, 'FirstDerivedBidVolume': 0, 'TargetKindPrice': 17181.44, 'Time': '01:07:46.689000'}\n"
     ]
    },
    {
     "output_type": "error",
     "ename": "KeyboardInterrupt",
     "evalue": "",
     "traceback": [
      "\u001b[0;31m---------------------------------------------------------------------------\u001b[0m",
      "\u001b[0;31mKeyboardInterrupt\u001b[0m                         Traceback (most recent call last)",
      "\u001b[0;32m/var/folders/bg/p0j8k5bn7_vf17dv2ht_j5wr0000gn/T/ipykernel_71984/2099402876.py\u001b[0m in \u001b[0;36m<module>\u001b[0;34m\u001b[0m\n\u001b[1;32m      1\u001b[0m \u001b[0;31m# 取得subscribe 資料：2021年10月的台指契約\u001b[0m\u001b[0;34m\u001b[0m\u001b[0;34m\u001b[0m\u001b[0;34m\u001b[0m\u001b[0m\n\u001b[1;32m      2\u001b[0m api.quote.subscribe(\n\u001b[0;32m----> 3\u001b[0;31m     \u001b[0mapi\u001b[0m\u001b[0;34m.\u001b[0m\u001b[0mContracts\u001b[0m\u001b[0;34m.\u001b[0m\u001b[0mFutures\u001b[0m\u001b[0;34m.\u001b[0m\u001b[0mTXF\u001b[0m\u001b[0;34m[\u001b[0m\u001b[0;34m'TXF202110'\u001b[0m\u001b[0;34m]\u001b[0m\u001b[0;34m,\u001b[0m\u001b[0;34m\u001b[0m\u001b[0;34m\u001b[0m\u001b[0m\n\u001b[0m\u001b[1;32m      4\u001b[0m     \u001b[0mquote_type\u001b[0m \u001b[0;34m=\u001b[0m \u001b[0msj\u001b[0m\u001b[0;34m.\u001b[0m\u001b[0mconstant\u001b[0m\u001b[0;34m.\u001b[0m\u001b[0mQuoteType\u001b[0m\u001b[0;34m.\u001b[0m\u001b[0mBidAsk\u001b[0m\u001b[0;34m,\u001b[0m\u001b[0;34m\u001b[0m\u001b[0;34m\u001b[0m\u001b[0m\n\u001b[1;32m      5\u001b[0m )\n",
      "\u001b[0;32m~/.local/share/virtualenvs/shioaji-sjfdYAfV/lib/python3.8/site-packages/shioaji/contracts.py\u001b[0m in \u001b[0;36m__getattr__\u001b[0;34m(self, attr)\u001b[0m\n\u001b[1;32m    181\u001b[0m     \u001b[0;32mdef\u001b[0m \u001b[0m__getattr__\u001b[0m\u001b[0;34m(\u001b[0m\u001b[0mself\u001b[0m\u001b[0;34m,\u001b[0m \u001b[0mattr\u001b[0m\u001b[0;34m)\u001b[0m\u001b[0;34m:\u001b[0m\u001b[0;34m\u001b[0m\u001b[0;34m\u001b[0m\u001b[0m\n\u001b[1;32m    182\u001b[0m         \u001b[0;32mif\u001b[0m \u001b[0;32mnot\u001b[0m \u001b[0mattr\u001b[0m\u001b[0;34m.\u001b[0m\u001b[0mstartswith\u001b[0m\u001b[0;34m(\u001b[0m\u001b[0;34m\"_\"\u001b[0m\u001b[0;34m)\u001b[0m\u001b[0;34m:\u001b[0m\u001b[0;34m\u001b[0m\u001b[0;34m\u001b[0m\u001b[0m\n\u001b[0;32m--> 183\u001b[0;31m             \u001b[0mself\u001b[0m\u001b[0;34m.\u001b[0m\u001b[0m_block\u001b[0m\u001b[0;34m(\u001b[0m\u001b[0;34m)\u001b[0m\u001b[0;34m\u001b[0m\u001b[0;34m\u001b[0m\u001b[0m\n\u001b[0m\u001b[1;32m    184\u001b[0m         \u001b[0;32mif\u001b[0m \u001b[0mobject\u001b[0m\u001b[0;34m.\u001b[0m\u001b[0m__getattribute__\u001b[0m\u001b[0;34m(\u001b[0m\u001b[0mself\u001b[0m\u001b[0;34m,\u001b[0m \u001b[0mattr\u001b[0m\u001b[0;34m)\u001b[0m\u001b[0;34m:\u001b[0m\u001b[0;34m\u001b[0m\u001b[0;34m\u001b[0m\u001b[0m\n\u001b[1;32m    185\u001b[0m             \u001b[0;32mreturn\u001b[0m \u001b[0mobject\u001b[0m\u001b[0;34m.\u001b[0m\u001b[0m__getattribute__\u001b[0m\u001b[0;34m(\u001b[0m\u001b[0mself\u001b[0m\u001b[0;34m,\u001b[0m \u001b[0mattr\u001b[0m\u001b[0;34m)\u001b[0m\u001b[0;34m\u001b[0m\u001b[0;34m\u001b[0m\u001b[0m\n",
      "\u001b[0;32m~/.local/share/virtualenvs/shioaji-sjfdYAfV/lib/python3.8/site-packages/shioaji/contracts.py\u001b[0m in \u001b[0;36m_block\u001b[0;34m(self)\u001b[0m\n\u001b[1;32m    175\u001b[0m         \u001b[0;32mif\u001b[0m \u001b[0;32mnot\u001b[0m \u001b[0mself\u001b[0m\u001b[0;34m.\u001b[0m\u001b[0m_fetched\u001b[0m\u001b[0;34m:\u001b[0m\u001b[0;34m\u001b[0m\u001b[0;34m\u001b[0m\u001b[0m\n\u001b[1;32m    176\u001b[0m             \u001b[0;32mfor\u001b[0m \u001b[0m_\u001b[0m \u001b[0;32min\u001b[0m \u001b[0mrange\u001b[0m\u001b[0;34m(\u001b[0m\u001b[0;36m100\u001b[0m\u001b[0;34m)\u001b[0m\u001b[0;34m:\u001b[0m\u001b[0;34m\u001b[0m\u001b[0;34m\u001b[0m\u001b[0m\n\u001b[0;32m--> 177\u001b[0;31m                 \u001b[0mtime\u001b[0m\u001b[0;34m.\u001b[0m\u001b[0msleep\u001b[0m\u001b[0;34m(\u001b[0m\u001b[0;36m0.3\u001b[0m\u001b[0;34m)\u001b[0m\u001b[0;34m\u001b[0m\u001b[0;34m\u001b[0m\u001b[0m\n\u001b[0m\u001b[1;32m    178\u001b[0m                 \u001b[0;32mif\u001b[0m \u001b[0mself\u001b[0m\u001b[0;34m.\u001b[0m\u001b[0m_fetched\u001b[0m\u001b[0;34m:\u001b[0m\u001b[0;34m\u001b[0m\u001b[0;34m\u001b[0m\u001b[0m\n\u001b[1;32m    179\u001b[0m                     \u001b[0;32mbreak\u001b[0m\u001b[0;34m\u001b[0m\u001b[0;34m\u001b[0m\u001b[0m\n",
      "\u001b[0;31mKeyboardInterrupt\u001b[0m: "
     ]
    },
    {
     "output_type": "stream",
     "name": "stdout",
     "text": [
      "Q/TFE/TXFJ1 {'AskPrice': [16920.0, 16921.0, 16922.0, 16923.0, 16924.0], 'AskVolSum': 54, 'AskVolume': [9, 15, 9, 6, 15], 'BidPrice': [16919.0, 16918.0, 16917.0, 16916.0, 16915.0], 'BidVolSum': 57, 'BidVolume': [9, 9, 15, 14, 10], 'Code': 'TXFJ1', 'Date': '', 'DiffAskVol': [0, 0, 0, 0, 0], 'DiffAskVolSum': 0, 'DiffBidVol': [0, 0, 5, -5, 0], 'DiffBidVolSum': 0, 'FirstDerivedAskPrice': 16920.0, 'FirstDerivedAskVolume': 7, 'FirstDerivedBidPrice': 0.0, 'FirstDerivedBidVolume': 0, 'TargetKindPrice': 17181.44, 'Time': '01:07:46.939000'}\n",
      "L/TFE/TXFJ1 {'Amount': [33838.0], 'AmountSum': [881878722.0], 'AvgPrice': [17018.115052], 'Close': [16919.0], 'Code': 'TXFJ1', 'Date': '', 'DiffPrice': [-251.0], 'DiffRate': [-1.461852], 'DiffType': [4], 'High': [17139.0], 'Low': [16896.0], 'Open': 17130.0, 'TargetKindPrice': 17181.44, 'TickType': [2], 'Time': '01:07:46.959000', 'TradeAskVolSum': 30095, 'TradeBidVolSum': 34117, 'VolSum': [51820], 'Volume': [2]}\n",
      "Q/TFE/TXFJ1 {'AskPrice': [16920.0, 16921.0, 16922.0, 16923.0, 16924.0], 'AskVolSum': 53, 'AskVolume': [9, 15, 9, 5, 15], 'BidPrice': [16919.0, 16918.0, 16917.0, 16916.0, 16915.0], 'BidVolSum': 55, 'BidVolume': [7, 9, 15, 14, 10], 'Code': 'TXFJ1', 'Date': '', 'DiffAskVol': [0, 0, 0, -1, 0], 'DiffAskVolSum': 0, 'DiffBidVol': [-2, 0, 0, 0, 0], 'DiffBidVolSum': 0, 'FirstDerivedAskPrice': 16920.0, 'FirstDerivedAskVolume': 7, 'FirstDerivedBidPrice': 0.0, 'FirstDerivedBidVolume': 0, 'TargetKindPrice': 17181.44, 'Time': '01:07:47.064000'}\n"
     ]
    }
   ],
   "metadata": {}
  }
 ],
 "metadata": {
  "orig_nbformat": 4,
  "language_info": {
   "name": "python",
   "version": "3.8.12",
   "mimetype": "text/x-python",
   "codemirror_mode": {
    "name": "ipython",
    "version": 3
   },
   "pygments_lexer": "ipython3",
   "nbconvert_exporter": "python",
   "file_extension": ".py"
  },
  "kernelspec": {
   "name": "python3",
   "display_name": "Python 3.8.12 64-bit ('shioaji-sjfdYAfV': pipenv)"
  },
  "interpreter": {
   "hash": "e67d1974932946c309c1b028ea555e122de53bd4d88369e4decfc64b2bddcd69"
  }
 },
 "nbformat": 4,
 "nbformat_minor": 2
}
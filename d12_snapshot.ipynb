{
 "cells": [
  {
   "cell_type": "code",
   "execution_count": 5,
   "source": [
    "import shioaji as sj\n",
    "import pandas"
   ],
   "outputs": [],
   "metadata": {}
  },
  {
   "cell_type": "code",
   "execution_count": null,
   "source": [
    "# 登入shioaji\n",
    "api = sj.Shioaji()\n",
    "api.login(\n",
    "    person_id=\"id是我\",\n",
    "    passwd=\"密碼是我\",\n",
    ")"
   ],
   "outputs": [],
   "metadata": {}
  },
  {
   "cell_type": "code",
   "execution_count": 8,
   "source": [
    "# 取得snapshot\n",
    "contract = [api.Contracts.Stocks['2330']]\n",
    "snapshot = api.snapshots(contract)\n",
    "snapshot"
   ],
   "outputs": [
    {
     "output_type": "execute_result",
     "data": {
      "text/plain": [
       "[Snapshot(ts=1632493800000000000, code='2330', exchange='TSE', open=591.0, high=598.0, low=590.0, close=598.0, tick_type=<TickType.Buy: 'Buy'>, change_price=10.0, change_rate=1.7, change_type=<ChangeType.Up: 'Up'>, average_price=594.7, volume=54, total_volume=16736, amount=32292000, total_amount=9952872854, yesterday_volume=21696.0, buy_price=597.0, buy_volume=41.0, sell_price=598.0, sell_volume=2, volume_ratio=0.77)]"
      ]
     },
     "metadata": {},
     "execution_count": 8
    }
   ],
   "metadata": {}
  },
  {
   "cell_type": "code",
   "execution_count": 13,
   "source": [
    "# 轉換成dataframe\n",
    "df = pandas.DataFrame(snapshot)\n",
    "df"
   ],
   "outputs": [
    {
     "output_type": "execute_result",
     "data": {
      "text/html": [
       "<div>\n",
       "<style scoped>\n",
       "    .dataframe tbody tr th:only-of-type {\n",
       "        vertical-align: middle;\n",
       "    }\n",
       "\n",
       "    .dataframe tbody tr th {\n",
       "        vertical-align: top;\n",
       "    }\n",
       "\n",
       "    .dataframe thead th {\n",
       "        text-align: right;\n",
       "    }\n",
       "</style>\n",
       "<table border=\"1\" class=\"dataframe\">\n",
       "  <thead>\n",
       "    <tr style=\"text-align: right;\">\n",
       "      <th></th>\n",
       "      <th>amount</th>\n",
       "      <th>average_price</th>\n",
       "      <th>buy_price</th>\n",
       "      <th>buy_volume</th>\n",
       "      <th>change_price</th>\n",
       "      <th>change_rate</th>\n",
       "      <th>change_type</th>\n",
       "      <th>close</th>\n",
       "      <th>code</th>\n",
       "      <th>exchange</th>\n",
       "      <th>...</th>\n",
       "      <th>open</th>\n",
       "      <th>sell_price</th>\n",
       "      <th>sell_volume</th>\n",
       "      <th>tick_type</th>\n",
       "      <th>total_amount</th>\n",
       "      <th>total_volume</th>\n",
       "      <th>ts</th>\n",
       "      <th>volume</th>\n",
       "      <th>volume_ratio</th>\n",
       "      <th>yesterday_volume</th>\n",
       "    </tr>\n",
       "  </thead>\n",
       "  <tbody>\n",
       "    <tr>\n",
       "      <th>0</th>\n",
       "      <td>32292000</td>\n",
       "      <td>594.7</td>\n",
       "      <td>597.0</td>\n",
       "      <td>41.0</td>\n",
       "      <td>10.0</td>\n",
       "      <td>1.7</td>\n",
       "      <td>ChangeType.Up</td>\n",
       "      <td>598.0</td>\n",
       "      <td>2330</td>\n",
       "      <td>TSE</td>\n",
       "      <td>...</td>\n",
       "      <td>591.0</td>\n",
       "      <td>598.0</td>\n",
       "      <td>2</td>\n",
       "      <td>TickType.Buy</td>\n",
       "      <td>9952872854</td>\n",
       "      <td>16736</td>\n",
       "      <td>1632493800000000000</td>\n",
       "      <td>54</td>\n",
       "      <td>0.77</td>\n",
       "      <td>21696.0</td>\n",
       "    </tr>\n",
       "  </tbody>\n",
       "</table>\n",
       "<p>1 rows × 22 columns</p>\n",
       "</div>"
      ],
      "text/plain": [
       "     amount  average_price  buy_price  buy_volume  change_price  change_rate  \\\n",
       "0  32292000          594.7      597.0        41.0          10.0          1.7   \n",
       "\n",
       "     change_type  close  code exchange  ...   open  sell_price  sell_volume  \\\n",
       "0  ChangeType.Up  598.0  2330      TSE  ...  591.0       598.0            2   \n",
       "\n",
       "      tick_type  total_amount total_volume                   ts  volume  \\\n",
       "0  TickType.Buy    9952872854        16736  1632493800000000000      54   \n",
       "\n",
       "   volume_ratio  yesterday_volume  \n",
       "0          0.77           21696.0  \n",
       "\n",
       "[1 rows x 22 columns]"
      ]
     },
     "metadata": {},
     "execution_count": 13
    }
   ],
   "metadata": {}
  }
 ],
 "metadata": {
  "orig_nbformat": 4,
  "language_info": {
   "name": "python",
   "version": "3.8.12",
   "mimetype": "text/x-python",
   "codemirror_mode": {
    "name": "ipython",
    "version": 3
   },
   "pygments_lexer": "ipython3",
   "nbconvert_exporter": "python",
   "file_extension": ".py"
  },
  "kernelspec": {
   "name": "python3",
   "display_name": "Python 3.8.12 64-bit ('shioaji-sjfdYAfV': pipenv)"
  },
  "interpreter": {
   "hash": "e67d1974932946c309c1b028ea555e122de53bd4d88369e4decfc64b2bddcd69"
  }
 },
 "nbformat": 4,
 "nbformat_minor": 2
}